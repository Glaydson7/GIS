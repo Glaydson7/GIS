{
 "cells": [
  {
   "cell_type": "code",
   "execution_count": null,
   "metadata": {},
   "outputs": [],
   "source": [
    "import geopandas as gpd\n",
    "import os\n",
    "import matplotlib.pyplot as plt\n",
    "\n",
    "\n",
    "def path_list():\n",
    "    path_municipios = os.getcwd() + 'municipios.shp'\n",
    "    path_aeroportos = os.getcwd() + 'aeroportos.shp'\n",
    "    path_rodovias = os.getcwd() + 'rodovias.shp'\n",
    "\n",
    "    return [path_municipios, path_aeroportos, path_rodovias]\n",
    "\n",
    "\n",
    "def open_shapefile():\n",
    "    return [gpd.read_file(i) for i in path_list()]\n",
    "\n",
    "\n",
    "def filter_municipios(state, shapes):\n",
    "    return municipios[municipios['uf'] == state]\n",
    "\n",
    "\n",
    "def airports(shape, municipio_filtrado):\n",
    "    gdf = gpd.sjoin(shape, municipio_filtrado, op='within')\n",
    "    total_airports = gdf.value_counts('TipoAero')\n",
    "    total_pav = gdf.value_counts('pavimento')\n",
    "\n",
    "    return gdf, total_airports, total_pav\n",
    "\n",
    "\n",
    "def roads(shape, municipio_filtrado):\n",
    "    gdf = gpd.overlay(shape, municipio_filtrado, how='intersection')\n",
    "    gdf_proj = gdf.copy()\n",
    "    gdf_proj['geometry'] = gdf_proj['geometry'].to_crs(epsg=5880)\n",
    "    gdf_proj['distancia km'] = gdf_proj['geometry'].length / 1000\n",
    "    distancias = gdf_proj.groupby('nm_tipo_tr').agg('sum')['distancia km']\n",
    "\n",
    "    return gdf, distancias\n",
    "\n",
    "\n",
    "def run(state):\n",
    "    shapes = open_shapefile()\n",
    "    municipio_filter = filter_municipios(state, shapes[0])\n",
    "    gdf_airports, aeroportos, pavimento = airports(shapes[1], municipio_filter)\n",
    "    gdf_roads, stats_distance = roads(shapes[2], municipio_filter)\n",
    "    # print(aeroportos)\n",
    "    # print(f'Estatísticas do Estado {state}')\n",
    "    # print(pavimento)\n",
    "    # print(stats_distance)\n",
    "    # gdf_airports.plot()\n",
    "    # gdf_roads.plot()\n",
    "\n",
    "    return municipio_filter, gdf_airports, gdf_roads\n",
    "\n",
    "\n",
    "run('RJ')"
   ]
  },
  {
   "cell_type": "code",
   "execution_count": null,
   "metadata": {},
   "outputs": [],
   "source": [
    "path_rodovias = os.getcwd() + '/dados/rodovias.shp'\n",
    "gpd.read_file(path_rodovias).crs  # m_tipo_tr"
   ]
  }
 ],
 "metadata": {
  "kernelspec": {
   "display_name": "Python 3",
   "language": "python",
   "name": "python3"
  },
  "language_info": {
   "codemirror_mode": {
    "name": "ipython",
    "version": 3
   },
   "file_extension": ".py",
   "mimetype": "text/x-python",
   "name": "python",
   "nbconvert_exporter": "python",
   "pygments_lexer": "ipython3",
   "version": "3.12.2"
  }
 },
 "nbformat": 4,
 "nbformat_minor": 2
}
