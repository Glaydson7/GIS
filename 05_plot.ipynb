{
 "cells": [
  {
   "cell_type": "code",
   "execution_count": null,
   "metadata": {},
   "outputs": [],
   "source": [
    "import geopandas as gpd\n",
    "import os\n",
    "import matplotlib.pyplot as plt\n",
    "\n",
    "\n",
    "def path_list():\n",
    "    path_municipios = os.getcwd() + 'municipios.shp'\n",
    "    path_aeroportos = os.getcwd() + 'aeroportos.shp'\n",
    "    path_rodovias = os.getcwd() + 'rodovias.shp'\n",
    "\n",
    "    return [path_municipios, path_aeroportos, path_rodovias]\n",
    "\n",
    "\n",
    "def open_shapefile():\n",
    "    return [gpd.read_file(i) for i in path_list()]\n",
    "\n",
    "\n",
    "def filter_municipios(state, shapes):\n",
    "    return shapes[shapes['uf'] == state]\n",
    "\n",
    "\n",
    "def airports(shape, municipio_filtrado):\n",
    "    gdf = gpd.sjoin(shape, municipio_filtrado, op='within')\n",
    "    total_airports = gdf.value_counts('TipoAero')\n",
    "    total_pav = gdf.value_counts('pavimento')\n",
    "\n",
    "    return gdf, total_airports, total_pav\n",
    "\n",
    "\n",
    "def roads(shape, municipio_filtrado):\n",
    "    gdf = gpd.overlay(shape, municipio_filtrado, how='intersection')\n",
    "    gdf_proj = gdf.copy()\n",
    "    gdf_proj['geometry'] = gdf_proj['geometry'].to_crs(epsg=5880)\n",
    "    gdf_proj['distancia km'] = gdf_proj['geometry'].length / 1000\n",
    "    distancias = gdf_proj.groupby('nm_tipo_tr').agg('sum')['distancia km']\n",
    "\n",
    "    return gdf, distancias\n",
    "\n",
    "\n",
    "def run(state):\n",
    "    shapes = open_shapefile()\n",
    "    municipio_filter = filter_municipios(state, shapes[0])\n",
    "    gdf_airports, aeroportos, pavimento = airports(shapes[1], municipio_filter)\n",
    "    gdf_roads, stats_distance = roads(shapes[2], municipio_filter)\n",
    "    print(aeroportos)\n",
    "    print(f'Estatísticas do Estado {state}')\n",
    "    print(pavimento)\n",
    "    print(stats_distance)\n",
    "    gdf_airports.plot()\n",
    "    gdf_roads.plot()\n",
    "\n",
    "    return municipio_filter, gdf_airports, gdf_roads"
   ]
  },
  {
   "cell_type": "code",
   "execution_count": null,
   "metadata": {},
   "outputs": [],
   "source": [
    "municipio_filter, gdf_airports, gdf_roads = run('PR')"
   ]
  },
  {
   "cell_type": "code",
   "execution_count": null,
   "metadata": {},
   "outputs": [],
   "source": [
    "municipio_filter['area'] = municipio_filter['geometry'].to_crs(\n",
    "    epsg=5880).area / 1000000"
   ]
  },
  {
   "cell_type": "code",
   "execution_count": null,
   "metadata": {},
   "outputs": [],
   "source": [
    "municipio_filter.plot(column='area')"
   ]
  },
  {
   "cell_type": "code",
   "execution_count": null,
   "metadata": {},
   "outputs": [],
   "source": [
    "fig, ax = plt.subplots(1, 1, figsize=(20, 15))\n",
    "municipio_filter.plot(ax=ax, column='area', legend=True)"
   ]
  },
  {
   "cell_type": "code",
   "execution_count": null,
   "metadata": {},
   "outputs": [],
   "source": [
    "from mpl_toolkits.axes_grid1 import make_axes_locatable\n",
    "fig, ax = plt.subplots(1, 1, figsize=(20, 15))\n",
    "div = make_axes_locatable(ax)\n",
    "cax = div.append_axes(\"right\", size=\"5%\", pad=0.3)\n",
    "municipio_filter.plot(ax=ax, column='area', legend=True, cax=cax)"
   ]
  },
  {
   "cell_type": "markdown",
   "metadata": {},
   "source": [
    "# |\n",
    "# |\n",
    "# |\n",
    "# |"
   ]
  },
  {
   "cell_type": "code",
   "execution_count": null,
   "metadata": {},
   "outputs": [],
   "source": [
    "from mpl_toolkits.axes_grid1 import make_axes_locatable\n",
    "fig, ax = plt.subplots(1, 1, figsize=(20, 15))\n",
    "plt.title('Área dos Municípios', fontsize=30)\n",
    "div = make_axes_locatable(ax)\n",
    "cax = div.append_axes(\"bottom\", size=\"5%\", pad=0.7)\n",
    "municipio_filter.plot(ax=ax, column='area', cmap='hot_r', legend=True, legend_kwds={\n",
    "                      'label': 'Área (km2)', 'orientation': 'horizontal'}, cax=cax)"
   ]
  },
  {
   "cell_type": "code",
   "execution_count": null,
   "metadata": {},
   "outputs": [],
   "source": [
    "from mpl_toolkits.axes_grid1 import make_axes_locatable\n",
    "fig, ax = plt.subplots(1, 1, figsize=(20, 15))\n",
    "plt.title('Área dos Municípios', fontsize=30)\n",
    "municipio.plot(ax=ax, column='area', cmap='copper_r',\n",
    "               scheme='fisher_jenks_k=10', legend=True)"
   ]
  },
  {
   "cell_type": "code",
   "execution_count": null,
   "metadata": {},
   "outputs": [],
   "source": [
    "from mpl_toolkits.axes_grid1 import make_axes_locatable\n",
    "fig, ax = plt.subplots(1, 1, figsize=(20, 15))\n",
    "plt.title('Área dos Municípios', fontsize=30, y=1.01)\n",
    "base = municipio.filter.plot(ax=ax, column='area', cmap='copper_r',\n",
    "                             scheme='fisher_jenks', k=5, legend=True, legend_kwds={'loc': 'lower right'})\n",
    "gdf_roads.plot(ax=base, color='Red', linestyle='dashed')\n",
    "gdf_airport.plot(ax=base, marker=\"x\", color='Blue')\n",
    "# 'box plot','equal_interval','fisher_jenks','fisher_jenks_sampled',\n",
    "# 'headtail_breaks','jenks_caspall','jenks_caspall_forced',\n",
    "# 'jenks_caspall_sampled','max_p_classifier','maximum_breaks',\n",
    "# 'natural breaks', 'quantiles' ,'percentiles'"
   ]
  }
 ],
 "metadata": {
  "kernelspec": {
   "display_name": "Python 3",
   "language": "python",
   "name": "python3"
  },
  "language_info": {
   "codemirror_mode": {
    "name": "ipython",
    "version": 3
   },
   "file_extension": ".py",
   "mimetype": "text/x-python",
   "name": "python",
   "nbconvert_exporter": "python",
   "pygments_lexer": "ipython3",
   "version": "3.12.2"
  }
 },
 "nbformat": 4,
 "nbformat_minor": 2
}
