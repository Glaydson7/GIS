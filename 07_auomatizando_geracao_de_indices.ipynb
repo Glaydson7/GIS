{
 "cells": [
  {
   "cell_type": "code",
   "execution_count": null,
   "metadata": {},
   "outputs": [],
   "source": [
    "import rasterio\n",
    "import matplotlib.pyplot as plt\n",
    "from rasterio.plot import show"
   ]
  },
  {
   "cell_type": "code",
   "execution_count": null,
   "metadata": {},
   "outputs": [],
   "source": [
    "import numpy as np\n",
    "\n",
    "# Função para normalizar os valores da grade\n",
    "\n",
    "\n",
    "def normalizar(array):\n",
    "    \"\"\"Normaliza arrays numpy para a escala 0.0 - 1.0\"\"\"\n",
    "    array_min, array_max = array.min(), array.max()\n",
    "    return (array - array_min) / (array_max - array_min)\n",
    "\n",
    "\n",
    "def cbers_raster(raster):\n",
    "    with rasterio.open(raster, 'r') as dst:\n",
    "        banda1 = dst.read(1)\n",
    "        banda2 = dst.read(2)\n",
    "        banda3 = dst.read(3)\n",
    "        banda4 = dst.read(4)\n",
    "        perfil = dst.profile\n",
    "\n",
    "    return banda1, banda2, banda3, banda4, perfil"
   ]
  },
  {
   "cell_type": "code",
   "execution_count": null,
   "metadata": {},
   "outputs": [],
   "source": [
    "# Função para normalizar os valores da grade\n",
    "def normalizar(array):\n",
    "    \"\"\"Normaliza arrays numpy para a escala 0.0 - 1.0\"\"\"\n",
    "    array_min, array_max = array.min(), array.max()\n",
    "    return (array - array_min) / (array_max - array_min)\n",
    "\n",
    "\n",
    "def cbers_index(raster):\n",
    "    banda1, banda2, banda3, banda4, perfil = cbers_raster(raster)\n",
    "\n",
    "    # normalizar os dados\n",
    "    ir = normalizar(banda4)\n",
    "    r = normalizar(banda3)\n",
    "    g = normalizar(banda2)\n",
    "    b = normalizar(banda1)\n",
    "\n",
    "    # criando índices\n",
    "    ndvi = (ir-r)/(ir+r)\n",
    "    ndwi = (g-ir)/(g+ir)\n",
    "\n",
    "    return ndvi, ndwi, perfil\n",
    "\n",
    "\n",
    "def plot_cbers():\n",
    "    ndvi, ndwi, perfil = cbers_index()\n",
    "\n",
    "    fig, (ax1, ax2) = plt.subplots(1, 2, figsize=(21, 7))\n",
    "\n",
    "    show(ndvi, cmap='Greens',\n",
    "         transform=perfil['transform'], ax=ax1, title='ÍNDICE NDVI')\n",
    "    show(ndwi, cmap='Blues',\n",
    "         transform=perfil['transform'], ax=ax2, title='ÍNDICE NDWI')\n",
    "\n",
    "    return"
   ]
  },
  {
   "cell_type": "code",
   "execution_count": null,
   "metadata": {},
   "outputs": [],
   "source": [
    "raster = 'cbers.tif'\n",
    "plot_cbers()"
   ]
  }
 ],
 "metadata": {
  "language_info": {
   "name": "python"
  }
 },
 "nbformat": 4,
 "nbformat_minor": 2
}
