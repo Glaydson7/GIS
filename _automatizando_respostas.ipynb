{
 "cells": [
  {
   "cell_type": "markdown",
   "metadata": {},
   "source": [
    "#### script para automatizar processos de consultas\n",
    "#### colocando um estado ele precisa me retornar:\n",
    "#### - Numero total de aeroportos com suas classificações\n",
    "#### - Tipos de pavimentos de aeroportos e quantidades\n",
    "#### - Total de aeroportos e sua categoria\n",
    "#### - extensão total de rodovias de acordo com seus pavimentos"
   ]
  },
  {
   "cell_type": "code",
   "execution_count": null,
   "metadata": {},
   "outputs": [],
   "source": [
    "import geopandas as gpd\n",
    "import os\n",
    "import matplotlib.pyplot as plt"
   ]
  },
  {
   "cell_type": "code",
   "execution_count": null,
   "metadata": {},
   "outputs": [],
   "source": [
    "def path_list():\n",
    "    path_municipios = os.getcwd() + 'municipios.shp'\n",
    "    path_aeroportos = os.getcwd() + 'aeroportos.shp'\n",
    "    path_rodovias = os.getcwd() + 'rodovias.shp'\n",
    "\n",
    "    return [path_municipios, path_aeroportos, path_rodovias]"
   ]
  },
  {
   "cell_type": "code",
   "execution_count": null,
   "metadata": {},
   "outputs": [],
   "source": [
    "def abrir_shapefile():\n",
    "    return [gpd.read_file(i) for i in path_list()]"
   ]
  },
  {
   "cell_type": "code",
   "execution_count": null,
   "metadata": {},
   "outputs": [],
   "source": [
    "def filtrar_municipios(state, shapes):\n",
    "    return shapes[shapes['uf'] == estate]"
   ]
  },
  {
   "cell_type": "code",
   "execution_count": null,
   "metadata": {},
   "outputs": [],
   "source": [
    "def airports(shape, municipio_filtrado):\n",
    "    gdf = gpd.sjoin(shape, municipio_filtrado, op='within')\n",
    "    total_airports = gdf.value_counts('TipoAero')\n",
    "    total_pav = gdf.value_counts('pavimento')\n",
    "\n",
    "    return gdf, total_airports, total_pav"
   ]
  },
  {
   "cell_type": "code",
   "execution_count": null,
   "metadata": {},
   "outputs": [],
   "source": [
    "def roads(shape, municipio_filtrado):\n",
    "    gdf = gpd.overlay(shape, municipio_filtrado, how='intersection')\n",
    "    gdf_proj = gdf.copy()\n",
    "    gdf_proj['geometry'] = gdf_proj['geometry'].to_crs(epsg=5880)\n",
    "    gdf_proj['distancia_km'] = gdf_proj['geometry'].length / 1000\n",
    "    distancias = gdf_proj.groupby('nm_tipo_tr').agg('sum')['distancia_km']\n",
    "\n",
    "    return gdf, distancias"
   ]
  },
  {
   "cell_type": "code",
   "execution_count": null,
   "metadata": {},
   "outputs": [],
   "source": [
    "def run(state):\n",
    "    shapes = open_shapefile()\n",
    "    municipio_filter = filter_municipios(state, shapes[0])\n",
    "    gdf_airports, aeroportos, pavimento = airports(shapes[1], municipio_filter)\n",
    "    gdf_roads, stats_distance = roads(shapes[2], municipio_filter)\n",
    "    print(f'Estatisitcas do Estado {state}')\n",
    "    print(aeroportos)\n",
    "    print(pavimento)\n",
    "    gdf_airports.plot()\n",
    "    print(stats_distance)\n",
    "    gdf_roads.plot()\n",
    "\n",
    "    return"
   ]
  },
  {
   "cell_type": "code",
   "execution_count": null,
   "metadata": {},
   "outputs": [],
   "source": [
    "run('PR')"
   ]
  },
  {
   "cell_type": "code",
   "execution_count": null,
   "metadata": {},
   "outputs": [],
   "source": [
    "path_rodovias = os.getcwd() + 'rodovias.shp'\n",
    "gpd.read_file(path_rodovias).crs"
   ]
  }
 ],
 "metadata": {
  "kernelspec": {
   "display_name": "Python 3",
   "language": "python",
   "name": "python3"
  },
  "language_info": {
   "codemirror_mode": {
    "name": "ipython",
    "version": 3
   },
   "file_extension": ".py",
   "mimetype": "text/x-python",
   "name": "python",
   "nbconvert_exporter": "python",
   "pygments_lexer": "ipython3",
   "version": "3.12.2"
  }
 },
 "nbformat": 4,
 "nbformat_minor": 2
}
